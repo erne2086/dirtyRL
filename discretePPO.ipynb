{
 "cells": [
  {
   "cell_type": "code",
   "execution_count": 1,
   "id": "bda43a92",
   "metadata": {},
   "outputs": [],
   "source": [
    "import gymnasium as gym\n",
    "import random\n",
    "env_name = \"LunarLander-v3\"\n",
    "env = gym.make(env_name, render_mode=\"human\")\n"
   ]
  },
  {
   "cell_type": "code",
   "execution_count": 2,
   "id": "e46f7fce",
   "metadata": {},
   "outputs": [],
   "source": [
    "vec_envs = gym.make_vec(env_name, num_envs=2)\n",
    "state = vec_envs.reset()"
   ]
  },
  {
   "cell_type": "code",
   "execution_count": 3,
   "id": "77fbfbb9",
   "metadata": {},
   "outputs": [
    {
     "data": {
      "image/png": "[encoded data removed]",
      "text/plain": [
       "<Figure size 640x480 with 1 Axes>"
      ]
     },
     "metadata": {},
     "output_type": "display_data"
    }
   ],
   "source": [
    "# visualize the environment in the notebook\n",
    "import matplotlib.pyplot as plt\n",
    "from IPython.display import display, clear_output\n",
    "import time\n",
    "\n",
    "# Create environment with rgb_array for visualization (no video recording)\n",
    "env = gym.make(env_name, render_mode='rgb_array')\n",
    "print(\"Environment created:\", env)\n",
    "\n",
    "# Reset and get initial observation\n",
    "obs, info = env.reset()\n",
    "print(\"Observation space:\", obs.shape)\n",
    "print(\"Info:\", info)\n",
    "\n",
    "# Run a random episode and display it in real-time\n",
    "done = False\n",
    "start_time = time.time()\n",
    "\n",
    "# Create figure once\n",
    "plt.figure(figsize=(8, 6))\n",
    "\n",
    "while time.time() - start_time < 10:  # Run for 10 seconds\n",
    "    action = env.action_space.sample()  # Random action\n",
    "    obs, reward, done, truncated, info = env.step(action)\n",
    "    \n",
    "    # Get frame and display it\n",
    "    frame = env.render()\n",
    "    \n",
    "    # Clear previous plot and show new frame\n",
    "    clear_output(wait=True)\n",
    "    plt.imshow(frame)\n",
    "    plt.axis('off')\n",
    "    plt.title(f'Pendulum Environment - Reward: {reward:.2f}')\n",
    "    plt.show()\n",
    "    \n",
    "    # Reset if episode ends\n",
    "    if done or truncated:\n",
    "        obs, info = env.reset()\n",
    "    \n",
    "    time.sleep(0.05)  # Small delay to see the animation"
   ]
  },
  {
   "cell_type": "code",
   "execution_count": 4,
   "id": "caf25b6f",
   "metadata": {},
   "outputs": [
    {
     "data": {
      "text/plain": [
       "np.int64(0)"
      ]
     },
     "execution_count": 4,
     "metadata": {},
     "output_type": "execute_result"
    }
   ],
   "source": [
    "env.action_space.sample() # Sample a random action, the output is a np.int64 array"
   ]
  },
  {
   "cell_type": "code",
   "execution_count": 5,
   "id": "d755c8c8",
   "metadata": {},
   "outputs": [
    {
     "data": {
      "text/plain": [
       "(2,)"
      ]
     },
     "execution_count": 5,
     "metadata": {},
     "output_type": "execute_result"
    }
   ],
   "source": [
    "vec_envs.action_space.shape"
   ]
  },
  {
   "cell_type": "code",
   "execution_count": 6,
   "id": "6e923629",
   "metadata": {},
   "outputs": [],
   "source": [
    "from torch import nn\n",
    "from torch.optim import Adam\n",
    "import torch\n",
    "import numpy as np\n",
    "from torch.distributions import Categorical\n",
    "from collections import deque\n",
    "from typing import List, Tuple\n",
    "\n",
    "def initialize_weights(layer: nn.Module):\n",
    "    if isinstance(layer, nn.Linear):\n",
    "        nn.init.xavier_uniform_(layer.weight)\n",
    "        if layer.bias is not None:\n",
    "            nn.init.zeros_(layer.bias)\n",
    "\n",
    "\n",
    "class ActorCritic(nn.Module):\n",
    "    def __init__(self, input_dim: int, output_dim: int, hidden_dim: int = 128):\n",
    "        super(ActorCritic, self).__init__()\n",
    "        self.actor = nn.Sequential(\n",
    "            nn.Linear(input_dim, hidden_dim),\n",
    "            nn.ReLU(),\n",
    "            nn.Linear(hidden_dim, hidden_dim),\n",
    "            nn.ReLU(),\n",
    "            nn.Linear(hidden_dim, output_dim),\n",
    "            nn.Softmax(dim=-1)  # For discrete action spaces\n",
    "        )\n",
    "        self.critic = nn.Sequential(\n",
    "            nn.Linear(input_dim, hidden_dim),\n",
    "            nn.ReLU(),\n",
    "            nn.Linear(hidden_dim, hidden_dim),\n",
    "            nn.ReLU(),\n",
    "            nn.Linear(hidden_dim, 1)\n",
    "        )\n",
    "        self.apply(initialize_weights)\n",
    "\n",
    "    def forward(self, x: torch.Tensor) -> Tuple[torch.Tensor, torch.Tensor]:\n",
    "        action_probs = self.actor(x)\n",
    "        state_value = self.critic(x)\n",
    "        return action_probs, state_value\n"
   ]
  },
  {
   "cell_type": "code",
   "execution_count": 7,
   "id": "74ee39cf",
   "metadata": {},
   "outputs": [],
   "source": [
    "import numpy as np\n",
    "from torch import Tensor\n",
    "def compute_gae(rewards: List[np.ndarray], values: List[Tensor], next_value: Tensor, gamma: float = 0.99, lam: float = 0.95) -> List[Tensor]:\n",
    "    gae = 0\n",
    "    returns = []\n",
    "    for step in reversed(range(len(rewards))):\n",
    "        delta = rewards[step] + gamma * next_value - values[step]\n",
    "        gae = delta + gamma * lam * gae\n",
    "        returns.insert(0, gae + values[step])\n",
    "        next_value = values[step]\n",
    "    return returns\n",
    "\n",
    "def ppo_update(\n",
    "    actor_critic: ActorCritic,\n",
    "    optimizer: Adam,\n",
    "    states: torch.Tensor,\n",
    "    actions: torch.Tensor,\n",
    "    old_log_probs: torch.Tensor,\n",
    "    returns: torch.Tensor,\n",
    "    advantages: torch.Tensor,\n",
    "    clip_ratio: float = 0.2\n",
    "):\n",
    "    action_probs, state_values = actor_critic(states)\n",
    "    \n",
    "    # Calculate log probabilities\n",
    "    dist = Categorical(action_probs)\n",
    "    log_probs = dist.log_prob(actions)\n",
    "    \n",
    "    # Calculate ratios\n",
    "    ratios = torch.exp(log_probs - old_log_probs)\n",
    "    \n",
    "    # Calculate surrogate losses\n",
    "    surrogate1 = ratios * advantages\n",
    "    surrogate2 = torch.clamp(ratios, 1 - clip_ratio, 1 + clip_ratio) * advantages\n",
    "    \n",
    "    actor_loss = -torch.min(surrogate1, surrogate2).mean() - 0.01 * dist.entropy().mean()  # Add entropy bonus for exploration\n",
    "    critic_loss = nn.MSELoss()(state_values.squeeze(), returns)\n",
    "    \n",
    "    loss = actor_loss + critic_loss\n",
    "    \n",
    "    optimizer.zero_grad()\n",
    "    loss.backward()\n",
    "    optimizer.step()"
   ]
  },
  {
   "cell_type": "code",
   "execution_count": 8,
   "id": "1c7b4642",
   "metadata": {},
   "outputs": [
    {
     "data": {
      "text/plain": [
       "np.int64(4)"
      ]
     },
     "execution_count": 8,
     "metadata": {},
     "output_type": "execute_result"
    }
   ],
   "source": [
    "vec_envs.action_space[0].n"
   ]
  },
  {
   "cell_type": "code",
   "execution_count": 9,
   "id": "ce57c5fc",
   "metadata": {},
   "outputs": [],
   "source": [
    "# hyperparameters\n",
    "learning_rate = 3e-4\n",
    "input_dim = vec_envs.observation_space.shape[1]\n",
    "output_dim = int(vec_envs.action_space[0].n) # For discrete action spaces, it is one per keyboard in the discrete action space\n",
    "hidden_dim = 512\n",
    "num_episodes = 10_000\n",
    "max_frames = 30_000\n",
    "\n",
    "# Initialize actor-critic model and optimizer\n",
    "actor_critic = ActorCritic(input_dim, output_dim, hidden_dim)\n",
    "optimizer = Adam(actor_critic.parameters(), lr=learning_rate)\n"
   ]
  },
  {
   "cell_type": "code",
   "execution_count": 10,
   "id": "29daa644",
   "metadata": {},
   "outputs": [
    {
     "data": {
      "text/plain": [
       "(8, 4)"
      ]
     },
     "execution_count": 10,
     "metadata": {},
     "output_type": "execute_result"
    }
   ],
   "source": [
    "input_dim, output_dim"
   ]
  },
  {
   "cell_type": "code",
   "execution_count": 11,
   "id": "48ab4ca6",
   "metadata": {},
   "outputs": [],
   "source": [
    "import tqdm\n",
    "\n",
    "def plot_rewards(rewards: List[float], title: str = \"Training Rewards\"):\n",
    "    plt.figure(figsize=(10, 5))\n",
    "    plt.plot(rewards, label='Average Reward')\n",
    "    plt.xlabel('Episode')\n",
    "    plt.ylabel('Average Reward')\n",
    "    plt.title(title)\n",
    "    plt.legend()\n",
    "    plt.grid()\n",
    "    plt.show()\n",
    "\n",
    "\n",
    "def test_env(env, actor_critic, num_episodes: int = 10, visualize: bool = True):\n",
    "    test_rewards = []\n",
    "    for _ in range(num_episodes):\n",
    "        state, info = env.reset()\n",
    "        done = False\n",
    "        truncated = False\n",
    "        episode_reward = 0\n",
    "        \n",
    "        while not (done or truncated):\n",
    "            state_tensor = torch.FloatTensor(state).unsqueeze(0)\n",
    "            action_probs, _ = actor_critic(state_tensor)\n",
    "            dist = Categorical(action_probs)\n",
    "            action = dist.sample()\n",
    "            \n",
    "            next_state, reward, done, truncated, info = env.step(action.item())\n",
    "            episode_reward += reward\n",
    "            \n",
    "            if visualize:\n",
    "                frame = env.render()\n",
    "                plt.imshow(frame)\n",
    "                plt.axis('off')\n",
    "                plt.title(f'Test Episode - Reward: {reward:.2f}')\n",
    "                plt.show()\n",
    "            \n",
    "            state = next_state\n",
    "        \n",
    "        test_rewards.append(episode_reward)\n",
    "    avg_reward = np.mean(test_rewards)\n",
    "    print(f\"Average Test Reward over {num_episodes} episodes: {avg_reward:.2f}\")\n",
    "    return test_rewards\n",
    "\n",
    "def train_ppo(vec_envs, env, actor_critic, optimizer, num_episodes: int = 10000, max_frames: int = 30_000):\n",
    "    frame_idx = 0\n",
    "    test_rewards = []\n",
    "    episode_rewards = deque(maxlen=100)\n",
    "    \n",
    "    for episode in tqdm.tqdm(range(num_episodes)):\n",
    "        state, info = vec_envs.reset()\n",
    "        done = np.array([False] * vec_envs.num_envs)\n",
    "        truncated = np.array([False] * vec_envs.num_envs)\n",
    "        episode_reward = 0\n",
    "        states, actions, rewards, values, log_probs = [], [], [], [], []\n",
    "        \n",
    "        next_state = state  # Initialize next_state to current state\n",
    "\n",
    "        while (frame_idx < max_frames) and (not np.all(done)) and (not np.all(truncated)):\n",
    "            state_tensor = torch.FloatTensor(state).unsqueeze(0)\n",
    "            #state_tensor.shape\n",
    "            #torch.Size([1, 2, 8])\n",
    "            action_probs, value = actor_critic(state_tensor)\n",
    "            dist = Categorical(action_probs)\n",
    "            action = dist.sample()\n",
    "            \n",
    "            next_state, reward, done, truncated, info = vec_envs.step(action.cpu().numpy()[0])\n",
    "            log_prob = dist.log_prob(action)\n",
    "            \n",
    "            states.append(state_tensor)\n",
    "            actions.append(action)\n",
    "            # convert reward to torch tensor\n",
    "            reward = torch.tensor(reward, dtype=torch.float32)\n",
    "            rewards.append(reward)\n",
    "            value = value.squeeze()\n",
    "            values.append(value)\n",
    "            log_probs.append(log_prob)\n",
    "            \n",
    "            state = next_state\n",
    "            episode_reward += reward\n",
    "            frame_idx += 1\n",
    "            \n",
    "        episode_rewards.append(episode_reward)\n",
    "        \n",
    "        # Only update if we have collected some data\n",
    "        if len(states) > 0:\n",
    "            # Compute GAE and returns\n",
    "            #torch.FloatTensor(next_state).unsqueeze(0).shape\n",
    "            #torch.Size([1, 2, 8])\n",
    "            _, next_value = actor_critic(torch.FloatTensor(next_state).unsqueeze(0))\n",
    "            next_value = next_value.squeeze()\n",
    "            returns = compute_gae(rewards, values, next_value)\n",
    "            \n",
    "            # Convert lists to tensors\n",
    "            states_tensor = torch.cat(states)\n",
    "            actions_tensor = torch.cat(actions)\n",
    "            log_probs_tensor = torch.cat(log_probs)\n",
    "            returns_tensor = torch.stack(returns)\n",
    "            \n",
    "            # Calculate advantages\n",
    "            values_tensor = torch.stack(values)\n",
    "            advantages = returns_tensor - values_tensor\n",
    "            \n",
    "            # Update the model using PPO\n",
    "            ppo_update(actor_critic, optimizer, states_tensor, actions_tensor, log_probs_tensor, returns_tensor, advantages)\n",
    "\n",
    "        if episode % 1000 == 0:\n",
    "            test_reward = test_env(env, actor_critic, num_episodes=10, visualize=False)\n",
    "            test_rewards.append(np.mean(test_reward))\n",
    "            avg_reward = np.mean(episode_rewards) if episode_rewards else 0\n",
    "            print(f\"Episode {episode}, Average Reward: {avg_reward:.2f}, Frame Index: {frame_idx}, Test Reward: {np.mean(test_reward):.2f}\")    \n",
    "    return test_rewards\n",
    "\n"
   ]
  },
  {
   "cell_type": "code",
   "execution_count": 12,
   "id": "4a53ad29",
   "metadata": {},
   "outputs": [
    {
     "name": "stderr",
     "output_type": "stream",
     "text": [
      "  0%|          | 0/10000 [00:07<?, ?it/s]"
     ]
    },
    {
     "name": "stdout",
     "output_type": "stream",
     "text": [
      "tensor([[[-0.0032],\n",
      "         [-0.0874],\n",
      "         [-0.0345],\n",
      "         [-0.0979]]], grad_fn=<ViewBackward0>)\n"
     ]
    },
    {
     "name": "stderr",
     "output_type": "stream",
     "text": [
      "  0%|          | 2/30000 [01:33<390:05:08, 46.81s/it]\n"
     ]
    },
    {
     "ename": "KeyboardInterrupt",
     "evalue": "",
     "output_type": "error",
     "traceback": [
      "\u001b[31m---------------------------------------------------------------------------\u001b[39m",
      "\u001b[31mTypeError\u001b[39m                                 Traceback (most recent call last)",
      "\u001b[36mCell\u001b[39m\u001b[36m \u001b[39m\u001b[32mIn[12]\u001b[39m\u001b[32m, line 2\u001b[39m\n\u001b[32m      1\u001b[39m \u001b[38;5;66;03m# Train the PPO agent\u001b[39;00m\n\u001b[32m----> \u001b[39m\u001b[32m2\u001b[39m test_rewards = \u001b[43mtrain_ppo\u001b[49m\u001b[43m(\u001b[49m\u001b[43mvec_envs\u001b[49m\u001b[43m,\u001b[49m\u001b[43m \u001b[49m\u001b[43menv\u001b[49m\u001b[43m,\u001b[49m\u001b[43m \u001b[49m\u001b[43mactor_critic\u001b[49m\u001b[43m,\u001b[49m\u001b[43m \u001b[49m\u001b[43moptimizer\u001b[49m\u001b[43m,\u001b[49m\u001b[43m \u001b[49m\u001b[43mnum_episodes\u001b[49m\u001b[43m=\u001b[49m\u001b[32;43m10000\u001b[39;49m\u001b[43m,\u001b[49m\u001b[43m \u001b[49m\u001b[43mmax_frames\u001b[49m\u001b[43m=\u001b[49m\u001b[43mmax_frames\u001b[49m\u001b[43m)\u001b[49m\n\u001b[32m      3\u001b[39m plot_rewards(test_rewards, title=\u001b[33m\"\u001b[39m\u001b[33mPPO Training Rewards\u001b[39m\u001b[33m\"\u001b[39m)\n",
      "\u001b[36mCell\u001b[39m\u001b[36m \u001b[39m\u001b[32mIn[11]\u001b[39m\u001b[32m, line 85\u001b[39m, in \u001b[36mtrain_ppo\u001b[39m\u001b[34m(vec_envs, env, actor_critic, optimizer, num_episodes, max_frames)\u001b[39m\n\u001b[32m     83\u001b[39m \u001b[38;5;28mprint\u001b[39m(next_value)\n\u001b[32m     84\u001b[39m next_value = next_value.squeeze()\n\u001b[32m---> \u001b[39m\u001b[32m85\u001b[39m returns = \u001b[43mcompute_gae\u001b[49m\u001b[43m(\u001b[49m\u001b[43mrewards\u001b[49m\u001b[43m,\u001b[49m\u001b[43m \u001b[49m\u001b[43mvalues\u001b[49m\u001b[43m,\u001b[49m\u001b[43m \u001b[49m\u001b[43mnext_value\u001b[49m\u001b[43m)\u001b[49m\n\u001b[32m     87\u001b[39m \u001b[38;5;66;03m# Convert lists to tensors\u001b[39;00m\n\u001b[32m     88\u001b[39m states_tensor = torch.cat(states)\n",
      "\u001b[36mCell\u001b[39m\u001b[36m \u001b[39m\u001b[32mIn[7]\u001b[39m\u001b[32m, line 5\u001b[39m, in \u001b[36mcompute_gae\u001b[39m\u001b[34m(rewards, values, next_value, gamma, lam)\u001b[39m\n\u001b[32m      3\u001b[39m returns = []\n\u001b[32m      4\u001b[39m \u001b[38;5;28;01mfor\u001b[39;00m step \u001b[38;5;129;01min\u001b[39;00m \u001b[38;5;28mreversed\u001b[39m(\u001b[38;5;28mrange\u001b[39m(\u001b[38;5;28mlen\u001b[39m(rewards))):\n\u001b[32m----> \u001b[39m\u001b[32m5\u001b[39m     delta = \u001b[43mrewards\u001b[49m\u001b[43m[\u001b[49m\u001b[43mstep\u001b[49m\u001b[43m]\u001b[49m\u001b[43m \u001b[49m\u001b[43m+\u001b[49m\u001b[43m \u001b[49m\u001b[43mgamma\u001b[49m\u001b[43m \u001b[49m\u001b[43m*\u001b[49m\u001b[43m \u001b[49m\u001b[43mnext_value\u001b[49m - values[step]\n\u001b[32m      6\u001b[39m     gae = delta + gamma * lam * gae\n\u001b[32m      7\u001b[39m     returns.insert(\u001b[32m0\u001b[39m, gae + values[step])\n",
      "\u001b[31mTypeError\u001b[39m: Concatenation operation is not implemented for NumPy arrays, use np.concatenate() instead. Please do not rely on this error; it may not be given on all Python implementations."
     ]
    }
   ],
   "source": [
    "# Train the PPO agent\n",
    "test_rewards = train_ppo(vec_envs, env, actor_critic, optimizer, num_episodes=30_000, max_frames=max_frames)\n",
    "plot_rewards(test_rewards, title=\"PPO Training Rewards\")"
   ]
  },
  {
   "cell_type": "code",
   "execution_count": 53,
   "id": "91e46c00",
   "metadata": {},
   "outputs": [
    {
     "data": {
      "image/png": "[encoded data removed]",
      "text/plain": [
       "<Figure size 640x480 with 1 Axes>"
      ]
     },
     "metadata": {},
     "output_type": "display_data"
    },
    {
     "name": "stdout",
     "output_type": "stream",
     "text": [
      "Total Reward: -126.10\n"
     ]
    }
   ],
   "source": [
    "# test the trained agent\n",
    "\n",
    "state, info = env.reset()\n",
    "\n",
    "frame = env.render()\n",
    "clear_output(wait=True)\n",
    "plt.imshow(frame)\n",
    "plt.axis('off')\n",
    "plt.title('Pendulum Environment')\n",
    "plt.show()\n",
    "done = False\n",
    "truncated = False\n",
    "total_reward = 0\n",
    "while not (done or truncated):\n",
    "    state = torch.FloatTensor(state).unsqueeze(0)\n",
    "    action_probs, value = actor_critic(state)\n",
    "    dist = Categorical(action_probs)\n",
    "    action = dist.sample()\n",
    "    next_state, reward, done, truncated, info = env.step(action.cpu().numpy()[0])\n",
    "    state = next_state\n",
    "    frame = env.render()\n",
    "    clear_output(wait=True)\n",
    "    plt.imshow(frame)\n",
    "    plt.axis('off')\n",
    "    plt.title('Pendulum Environment')\n",
    "    plt.show()\n",
    "    total_reward += reward\n",
    "print(f\"Total Reward: {total_reward:.2f}\")"
   ]
  },
  {
   "cell_type": "code",
   "execution_count": null,
   "id": "9a9c2b12",
   "metadata": {},
   "outputs": [
    {
     "name": "stdout",
     "output_type": "stream",
     "text": [
      "State tensor shape: torch.Size([1, 4, 8])\n"
     ]
    }
   ],
   "source": [
    "state, info = vec_envs.reset()\n",
    "episode_reward = 0\n",
    "states, actions, rewards, values, log_probs = [], [], [], [], []\n",
    "\n",
    "next_state = state  # Initialize next_state to current state\n",
    "state_tensor = torch.FloatTensor(state).unsqueeze(0)\n",
    "print(\"State tensor shape:\", state_tensor.shape)\n",
    "action_probs, value = actor_critic(state_tensor)def train_ppo(vec_envs, env, actor_critic, optimizer, num_episodes: int = 10000, max_frames: int = 30_000):\n",
    "    frame_idx = 0\n",
    "    test_rewards = []\n",
    "    episode_rewards = deque(maxlen=100)\n",
    "    \n",
    "    for episode in tqdm.tqdm(range(num_episodes)):\n",
    "        state, info = vec_envs.reset()\n",
    "        done = np.array([False, False])\n",
    "        truncated = np.array([False, False])\n",
    "        episode_reward = 0\n",
    "        states, actions, rewards, values, log_probs = [], [], [], [], []\n",
    "        \n",
    "        step_count = 0\n",
    "        max_steps_per_episode = 1000  # Prevent infinite episodes\n",
    "\n",
    "        while (frame_idx < max_frames) and (not np.all(done)) and (not np.all(truncated)) and (step_count < max_steps_per_episode):\n",
    "            # Don't add extra unsqueeze - state already has shape [2, 8]\n",
    "            state_tensor = torch.FloatTensor(state)\n",
    "            action_probs, value = actor_critic(state_tensor)\n",
    "            \n",
    "            # Create distribution for each environment\n",
    "            dist = Categorical(action_probs)\n",
    "            action = dist.sample()\n",
    "            \n",
    "            # Use actions for both environments\n",
    "            next_state, reward, done, truncated, info = vec_envs.step(action.cpu().numpy())\n",
    "            log_prob = dist.log_prob(action)\n",
    "            \n",
    "            states.append(state_tensor)\n",
    "            actions.append(action)\n",
    "            \n",
    "            # Convert reward to torch tensor and sum across environments\n",
    "            reward_tensor = torch.tensor(reward, dtype=torch.float32)\n",
    "            rewards.append(reward_tensor.sum())  # Sum rewards across environments\n",
    "            \n",
    "            # Sum values and log_probs across environments\n",
    "            values.append(value.sum())\n",
    "            log_probs.append(log_prob.sum())\n",
    "            \n",
    "            state = next_state\n",
    "            episode_reward += reward_tensor.sum()\n",
    "            frame_idx += 1\n",
    "            step_count += 1\n",
    "            \n",
    "        episode_rewards.append(episode_reward.item() if isinstance(episode_reward, torch.Tensor) else episode_reward)\n",
    "        \n",
    "        # Only update if we have collected some data\n",
    "        if len(states) > 0:\n",
    "            # Compute GAE and returns\n",
    "            state_tensor = torch.FloatTensor(next_state)\n",
    "            _, next_value = actor_critic(state_tensor)\n",
    "            next_value = next_value.sum()  # Sum across environments\n",
    "            \n",
    "            returns = compute_gae(rewards, values, next_value)\n",
    "            \n",
    "            # Convert lists to tensors\n",
    "            states_tensor = torch.stack(states)\n",
    "            actions_tensor = torch.stack(actions)\n",
    "            log_probs_tensor = torch.stack(log_probs)\n",
    "            returns_tensor = torch.stack(returns)\n",
    "            \n",
    "            # Calculate advantages\n",
    "            values_tensor = torch.stack(values)\n",
    "            advantages = returns_tensor - values_tensor\n",
    "            \n",
    "            # Normalize advantages for better training stability\n",
    "            advantages = (advantages - advantages.mean()) / (advantages.std() + 1e-8)\n",
    "            \n",
    "            # Update the model using PPO\n",
    "            ppo_update(actor_critic, optimizer, states_tensor, actions_tensor, log_probs_tensor, returns_tensor, advantages)\n",
    "\n",
    "        if episode % 100 == 0:  # Test more frequently\n",
    "            test_reward = test_env(env, actor_critic, num_episodes=5, visualize=False)\n",
    "            test_rewards.append(np.mean(test_reward))\n",
    "            avg_reward = np.mean(episode_rewards) if episode_rewards else 0\n",
    "            print(f\"Episode {episode}, Average Reward: {avg_reward:.2f}, Frame Index: {frame_idx}, Test Reward: {np.mean(test_reward):.2f}\")    \n",
    "    return test_rewards"
   ]
  },
  {
   "cell_type": "code",
   "execution_count": 69,
   "id": "1968af62",
   "metadata": {},
   "outputs": [
    {
     "data": {
      "text/plain": [
       "tensor([[[0.1961, 0.3169, 0.2212, 0.2657],\n",
       "         [0.1790, 0.3054, 0.2469, 0.2687],\n",
       "         [0.1613, 0.3620, 0.2369, 0.2398],\n",
       "         [0.1775, 0.3610, 0.2214, 0.2402]]], grad_fn=<SoftmaxBackward0>)"
      ]
     },
     "execution_count": 69,
     "metadata": {},
     "output_type": "execute_result"
    }
   ],
   "source": [
    "action_probs"
   ]
  },
  {
   "cell_type": "code",
   "execution_count": 72,
   "id": "216f9425",
   "metadata": {},
   "outputs": [
    {
     "data": {
      "text/plain": [
       "(Categorical(probs: torch.Size([1, 4, 4])), tensor([[1, 2, 2, 2]]))"
      ]
     },
     "execution_count": 72,
     "metadata": {},
     "output_type": "execute_result"
    }
   ],
   "source": [
    "dist = Categorical(action_probs)\n",
    "action = dist.sample()\n",
    "dist, action"
   ]
  },
  {
   "cell_type": "code",
   "execution_count": 84,
   "id": "0e648948",
   "metadata": {},
   "outputs": [
    {
     "data": {
      "text/plain": [
       "array([1, 2, 2, 2])"
      ]
     },
     "execution_count": 84,
     "metadata": {},
     "output_type": "execute_result"
    }
   ],
   "source": [
    "action.cpu().numpy()[0]"
   ]
  },
  {
   "cell_type": "code",
   "execution_count": 62,
   "id": "705feaf8",
   "metadata": {},
   "outputs": [
    {
     "data": {
      "text/plain": [
       "torch.Size([4, 8])"
      ]
     },
     "execution_count": 62,
     "metadata": {},
     "output_type": "execute_result"
    }
   ],
   "source": [
    "torch.FloatTensor(state).shape"
   ]
  },
  {
   "cell_type": "code",
   "execution_count": 63,
   "id": "7ed99598",
   "metadata": {},
   "outputs": [
    {
     "data": {
      "text/plain": [
       "(4, 8)"
      ]
     },
     "execution_count": 63,
     "metadata": {},
     "output_type": "execute_result"
    }
   ],
   "source": [
    "vec_envs.observation_space.shape"
   ]
  },
  {
   "cell_type": "code",
   "execution_count": 85,
   "id": "1760db16",
   "metadata": {},
   "outputs": [
    {
     "data": {
      "text/plain": [
       "array([1, 2, 2, 0])"
      ]
     },
     "execution_count": 85,
     "metadata": {},
     "output_type": "execute_result"
    }
   ],
   "source": [
    "vec_envs.action_space.sample()"
   ]
  },
  {
   "cell_type": "code",
   "execution_count": 86,
   "id": "325daf40",
   "metadata": {},
   "outputs": [
    {
     "data": {
      "text/plain": [
       "(array([[-0.0207015 ,  1.4376045 , -0.70805174,  0.36898848,  0.02823097,\n",
       "          0.22109969,  0.        ,  0.        ],\n",
       "        [ 0.0130722 ,  1.4391944 ,  0.4405354 ,  0.44750464, -0.01374587,\n",
       "         -0.09139954,  0.        ,  0.        ],\n",
       "        [ 0.01492996,  1.378388  ,  0.5005176 , -0.48031557, -0.02251425,\n",
       "         -0.17477141,  0.        ,  0.        ],\n",
       "        [-0.01559029,  1.4337385 , -0.7815169 ,  0.52460545,  0.01885197,\n",
       "          0.19445577,  0.        ,  0.        ]], dtype=float32),\n",
       " array([-1.49397397, -3.43256539,  1.92220309, -3.01464674]),\n",
       " array([False, False, False, False]),\n",
       " array([False, False, False, False]),\n",
       " {})"
      ]
     },
     "execution_count": 86,
     "metadata": {},
     "output_type": "execute_result"
    }
   ],
   "source": [
    "vec_envs.step(action.cpu().numpy()[0])"
   ]
  },
  {
   "cell_type": "code",
   "execution_count": null,
   "id": "35605f22",
   "metadata": {},
   "outputs": [],
   "source": []
  }
 ],
 "metadata": {
  "kernelspec": {
   "display_name": "dirtyRL (3.13.5)",
   "language": "python",
   "name": "python3"
  },
  "language_info": {
   "codemirror_mode": {
    "name": "ipython",
    "version": 3
   },
   "file_extension": ".py",
   "mimetype": "text/x-python",
   "name": "python",
   "nbconvert_exporter": "python",
   "pygments_lexer": "ipython3",
   "version": "3.13.5"
  }
 },
 "nbformat": 4,
 "nbformat_minor": 5
}
