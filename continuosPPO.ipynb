{
 "cells": [
  {
   "cell_type": "code",
   "execution_count": 1,
   "id": "39b3f2c7",
   "metadata": {},
   "outputs": [
    {
     "name": "stdout",
     "output_type": "stream",
     "text": [
      "PyTorch version: 2.7.0\n",
      "CUDA available: False\n",
      "CUDA is not available. Check your installation.\n"
     ]
    }
   ],
   "source": [
    "import torch\n",
    "\n",
    "print(\"PyTorch version:\", torch.__version__)\n",
    "print(\"CUDA available:\", torch.cuda.is_available())\n",
    "\n",
    "if torch.cuda.is_available():\n",
    "    print(\"CUDA device count:\", torch.cuda.device_count())\n",
    "    print(\"Current CUDA device:\", torch.cuda.current_device())\n",
    "    print(\"CUDA device name:\", torch.cuda.get_device_name(torch.cuda.current_device()))\n",
    "else:\n",
    "    print(\"CUDA is not available. Check your installation.\")\n"
   ]
  },
  {
   "cell_type": "code",
   "execution_count": 2,
   "id": "8df293f8",
   "metadata": {},
   "outputs": [
    {
     "name": "stdout",
     "output_type": "stream",
     "text": [
      "Vectorized environment created\n",
      "State shape: (8, 3)\n",
      "Number of environments: 8\n"
     ]
    }
   ],
   "source": [
    "import gymnasium as gym\n",
    "\n",
    "\n",
    "# Use Gymnasium's built-in vectorization\n",
    "num_envs = 8\n",
    "env_name = \"Pendulum-v1\"    \n",
    "\n",
    "# Create vectorized environment using Gymnasium's native support\n",
    "envs = gym.make_vec(env_name, num_envs=num_envs)\n",
    "print(\"Vectorized environment created\")\n",
    "\n",
    "# Reset should now work properly\n",
    "state = envs.reset()\n",
    "if isinstance(state, tuple):\n",
    "    state, info = state\n",
    "print(\"State shape:\", state.shape)\n",
    "print(\"Number of environments:\", len(state))\n"
   ]
  },
  {
   "cell_type": "code",
   "execution_count": 3,
   "id": "14adf2b5",
   "metadata": {},
   "outputs": [
    {
     "name": "stdout",
     "output_type": "stream",
     "text": [
      "Using CUDA: False\n",
      "Device: cpu\n"
     ]
    }
   ],
   "source": [
    "use_cuda = torch.cuda.is_available()\n",
    "print(\"Using CUDA:\", use_cuda)\n",
    "device = torch.device(\"cuda\" if use_cuda else \"cpu\")\n",
    "print(\"Device:\", device)"
   ]
  },
  {
   "cell_type": "code",
   "execution_count": 4,
   "id": "f789365e",
   "metadata": {},
   "outputs": [
    {
     "data": {
      "image/png": "[encoded data removed]",
      "text/plain": [
       "<Figure size 640x480 with 1 Axes>"
      ]
     },
     "metadata": {},
     "output_type": "display_data"
    }
   ],
   "source": [
    "# visualize the environment in the notebook\n",
    "import matplotlib.pyplot as plt\n",
    "from IPython.display import display, clear_output\n",
    "import time\n",
    "\n",
    "# Create environment with rgb_array for visualization (no video recording)\n",
    "env = gym.make(env_name, render_mode='rgb_array')\n",
    "print(\"Environment created:\", env)\n",
    "\n",
    "# Reset and get initial observation\n",
    "obs, info = env.reset()\n",
    "print(\"Observation space:\", obs.shape)\n",
    "print(\"Info:\", info)\n",
    "\n",
    "# Run a random episode and display it in real-time\n",
    "done = False\n",
    "start_time = time.time()\n",
    "\n",
    "# Create figure once\n",
    "plt.figure(figsize=(8, 6))\n",
    "\n",
    "while time.time() - start_time < 10:  # Run for 10 seconds\n",
    "    action = env.action_space.sample()  # Random action\n",
    "    obs, reward, done, truncated, info = env.step(action)\n",
    "    \n",
    "    # Get frame and display it\n",
    "    frame = env.render()\n",
    "    \n",
    "    # Clear previous plot and show new frame\n",
    "    clear_output(wait=True)\n",
    "    plt.imshow(frame)\n",
    "    plt.axis('off')\n",
    "    plt.title(f'Pendulum Environment - Reward: {reward:.2f}')\n",
    "    plt.show()\n",
    "    \n",
    "    # Reset if episode ends\n",
    "    if done or truncated:\n",
    "        obs, info = env.reset()\n",
    "    \n",
    "    time.sleep(0.05)  # Small delay to see the animation"
   ]
  },
  {
   "cell_type": "code",
   "execution_count": 5,
   "id": "38b1de7a",
   "metadata": {},
   "outputs": [
    {
     "data": {
      "text/plain": [
       "Box(-2.0, 2.0, (1,), float32)"
      ]
     },
     "execution_count": 5,
     "metadata": {},
     "output_type": "execute_result"
    }
   ],
   "source": [
    "env.action_space"
   ]
  },
  {
   "cell_type": "code",
   "execution_count": 6,
   "id": "eac5e5f3",
   "metadata": {},
   "outputs": [],
   "source": [
    "# define the neural network\n",
    "import torch.nn as nn\n",
    "import torch.nn.functional as F\n",
    "\n",
    "def initialize_weights(m):\n",
    "    if isinstance(m, nn.Linear):\n",
    "        nn.init.xavier_uniform_(m.weight)\n",
    "        if m.bias is not None:\n",
    "            nn.init.constant_(m.bias, 0)\n",
    "\n",
    "\n",
    "class ActorCritic(nn.Module):\n",
    "    def __init__(self, num_inputs, num_outputs, hidden_size, std=0.0):\n",
    "        super(ActorCritic, self).__init__()\n",
    "        \n",
    "        # The critic network estimates the value function\n",
    "        self.critic = nn.Sequential(\n",
    "            nn.Linear(num_inputs, hidden_size),\n",
    "            nn.ReLU(),\n",
    "            nn.Linear(hidden_size, 1)\n",
    "        )\n",
    "\n",
    "        # The actor network \n",
    "        self.actor = nn.Sequential(\n",
    "            nn.Linear(num_inputs, hidden_size),\n",
    "            nn.ReLU(),\n",
    "            nn.Linear(hidden_size, num_outputs)\n",
    "        )\n",
    "        # Initialize log standard deviation, this is used for continuous action spaces\n",
    "        self.log_std = nn.Parameter(torch.ones(1, num_outputs) * std) \n",
    "        self.apply(initialize_weights)\n",
    "\n",
    "    def forward(self, x):\n",
    "        value = self.critic(x)\n",
    "        mu = self.actor(x)\n",
    "        std = self.log_std.exp().expand_as(mu)\n",
    "        dist = torch.distributions.Normal(mu, std)\n",
    "        return dist, value"
   ]
  },
  {
   "cell_type": "code",
   "execution_count": 7,
   "id": "4891466f",
   "metadata": {},
   "outputs": [],
   "source": [
    "def plot(frame_idx, rewards):\n",
    "    clear_output(wait = True)\n",
    "    plt.figure(figsize=(20,5))\n",
    "    plt.subplot(131)\n",
    "    plt.title(f'frame {frame_idx}, rewards: {rewards[-1]}')\n",
    "    plt.plot(rewards)\n",
    "    plt.xlabel('Episode')\n",
    "    plt.ylabel('Reward')\n",
    "    plt.show()\n",
    "\n",
    "def test_env(vis=False):\n",
    "    state, info = env.reset()\n",
    "    if vis:\n",
    "        frame = env.render()\n",
    "        clear_output(wait=True)\n",
    "        plt.imshow(frame)\n",
    "        plt.axis('off')\n",
    "        plt.title('Pendulum Environment')\n",
    "        plt.show()\n",
    "    done = False\n",
    "    truncated = False\n",
    "    total_reward = 0\n",
    "    while not (done or truncated):\n",
    "        state = torch.FloatTensor(state).unsqueeze(0).to(device)\n",
    "        dist, _ = model(state)\n",
    "        next_state, reward, done, truncated, info = env.step(dist.sample().cpu().numpy()[0])\n",
    "        state = next_state\n",
    "        if vis:\n",
    "            frame = env.render()\n",
    "            clear_output(wait=True)\n",
    "            plt.imshow(frame)\n",
    "            plt.axis('off')\n",
    "            plt.title('Pendulum Environment')\n",
    "            plt.show()\n",
    "        total_reward += reward\n",
    "    return total_reward"
   ]
  },
  {
   "cell_type": "code",
   "execution_count": 8,
   "id": "d32858af",
   "metadata": {},
   "outputs": [
    {
     "name": "stdout",
     "output_type": "stream",
     "text": [
      "9\n",
      "8\n",
      "7\n",
      "6\n",
      "5\n",
      "4\n",
      "3\n",
      "2\n",
      "1\n",
      "0\n"
     ]
    }
   ],
   "source": [
    "for step in reversed(range(10)):  # Example usage of reversed function\n",
    "    print(step)"
   ]
  },
  {
   "cell_type": "code",
   "execution_count": 9,
   "id": "aaa7c56c",
   "metadata": {},
   "outputs": [],
   "source": [
    "#GAE stands for Generalized Advantage Estimation, a method to reduce variance in policy gradient methods.\n",
    "\n",
    "def compute_gae(next_value, rewards, masks, values, gamma=0.99, tau=0.95):\n",
    "    \"\"\"Compute the Generalized Advantage Estimation (GAE) for a batch of rewards and values.\n",
    "    Args:\n",
    "        next_value (float): Value of the next state.\n",
    "        rewards (list): List of rewards for each step.\n",
    "        masks (list): List of masks indicating if the episode is done.\n",
    "        values (list): List of values for each state.\n",
    "        gamma (float): Discount factor.\n",
    "        tau (float): GAE parameter.\n",
    "    \"\"\"\n",
    "    values = values + [next_value]  # Append next value to the end of values\n",
    "    gae = 0\n",
    "    returns = []\n",
    "    for step in reversed(range(len(rewards))):\n",
    "        delta = rewards[step] + gamma * values[step + 1] * masks[step] - values[step]\n",
    "        gae = delta + gamma * tau * masks[step] * gae\n",
    "        returns.insert(0, gae + values[step])\n",
    "    return returns"
   ]
  },
  {
   "cell_type": "code",
   "execution_count": 10,
   "id": "0acef85b",
   "metadata": {},
   "outputs": [],
   "source": [
    "import numpy as np\n",
    "\n",
    "def ppo_iter(mini_batch_size, states, actions, log_probs, returns, advantages):\n",
    "    \"\"\"Yield mini-batches of data for PPO training.\n",
    "    \"\"\"\n",
    "    batch_size = states.size(0)\n",
    "    for _ in range(batch_size // mini_batch_size):\n",
    "        rand_indices = np.random.randint(0, batch_size, mini_batch_size)\n",
    "        yield states[rand_indices, :], actions[rand_indices, :], log_probs[rand_indices, :], returns[rand_indices, :], advantages[rand_indices, :]\n",
    "\n",
    "\n",
    "def ppo_update(ppo_epochs, mini_batch_size, states, actions, log_probs, returns, advantages, clip_param=0.2):\n",
    "    \"\"\"Perform PPO update on the policy and value networks.\n",
    "    \"\"\"\n",
    "    for _ in range(ppo_epochs):\n",
    "        for state, action, old_log_probs, return_, advantage, in ppo_iter(mini_batch_size, states, actions, log_probs, returns, advantages):\n",
    "            dist, value = model(state)\n",
    "            entropy = dist.entropy().mean()\n",
    "            new_log_probs = dist.log_prob(action)\n",
    "\n",
    "            ratio = (new_log_probs - old_log_probs).exp()\n",
    "            surr1 = ratio * advantage\n",
    "            surr2 = torch.clamp(ratio, 1.0 - clip_param, 1.0 + clip_param) * advantage\n",
    "\n",
    "            actor_loss = -torch.min(surr1, surr2).mean()\n",
    "            critic_loss = (return_ - value).pow(2).mean()\n",
    "            loss = 0.5 * critic_loss + actor_loss - 0.01 * entropy\n",
    "\n",
    "            optimizer.zero_grad()\n",
    "            loss.backward()\n",
    "            optimizer.step()"
   ]
  },
  {
   "cell_type": "code",
   "execution_count": 11,
   "id": "76fead60",
   "metadata": {},
   "outputs": [
    {
     "data": {
      "text/plain": [
       "(8, 3)"
      ]
     },
     "execution_count": 11,
     "metadata": {},
     "output_type": "execute_result"
    }
   ],
   "source": [
    "envs.observation_space.shape"
   ]
  },
  {
   "cell_type": "code",
   "execution_count": 12,
   "id": "e6751796",
   "metadata": {},
   "outputs": [],
   "source": [
    "from torch.optim.adam import Adam\n",
    "num_inputs = envs.observation_space.shape[1]\n",
    "num_outputs = envs.action_space.shape[1]\n",
    "\n",
    "# hyperparameters\n",
    "hidden_size = 256\n",
    "lr = 3e-4\n",
    "num_steps = 20\n",
    "mini_batch_size = 5\n",
    "ppo_epochs = 4\n",
    "threshold_reward = -200\n",
    "model = ActorCritic(num_inputs, num_outputs, hidden_size).to(device)\n",
    "optimizer = Adam(model.parameters(), lr=lr)"
   ]
  },
  {
   "cell_type": "code",
   "execution_count": 13,
   "id": "8ffd0bab",
   "metadata": {},
   "outputs": [
    {
     "data": {
      "text/plain": [
       "((8, 3), (8, 1))"
      ]
     },
     "execution_count": 13,
     "metadata": {},
     "output_type": "execute_result"
    }
   ],
   "source": [
    "envs.observation_space.shape, envs.action_space.shape"
   ]
  },
  {
   "cell_type": "code",
   "execution_count": 14,
   "id": "0eacae9b",
   "metadata": {},
   "outputs": [],
   "source": [
    "max_frames = 30_000\n",
    "frame_idx = 0\n",
    "test_rewards = []\n"
   ]
  },
  {
   "cell_type": "code",
   "execution_count": 15,
   "id": "463bb02d",
   "metadata": {},
   "outputs": [],
   "source": [
    "import tqdm"
   ]
  },
  {
   "cell_type": "code",
   "execution_count": 16,
   "id": "308dfa77",
   "metadata": {},
   "outputs": [
    {
     "data": {
      "image/png": "[encoded data removed]",
      "text/plain": [
       "<Figure size 2000x500 with 1 Axes>"
      ]
     },
     "metadata": {},
     "output_type": "display_data"
    },
    {
     "name": "stderr",
     "output_type": "stream",
     "text": [
      "Training Progress:  80%|████████  | 24000/30000 [01:08<00:17, 352.78it/s, Test Reward=-124.53, Frame=24000]\n"
     ]
    }
   ],
   "source": [
    "import tqdm\n",
    "\n",
    "state = envs.reset()[0]\n",
    "early_stop = False\n",
    "\n",
    "# Add progress bar for the main training loop\n",
    "with tqdm.tqdm(total=max_frames, desc=\"Training Progress\") as pbar:\n",
    "    while frame_idx < max_frames and not early_stop:\n",
    "\n",
    "        log_probs = []\n",
    "        values = []\n",
    "        states = []\n",
    "        actions = []\n",
    "        rewards = []\n",
    "        masks = []\n",
    "        entropy = 0\n",
    "\n",
    "        # Add progress bar for the inner steps loop\n",
    "        for step in tqdm.tqdm(range(num_steps), desc=f\"Episode Steps\", leave=False):\n",
    "            state = torch.FloatTensor(state).to(device)\n",
    "            dist, value = model(state)\n",
    "            \n",
    "            action = dist.sample()\n",
    "            next_state, reward, done, truncated, info = envs.step(action.cpu().numpy())\n",
    "            \n",
    "            log_prob = dist.log_prob(action)\n",
    "            entropy += dist.entropy().mean()\n",
    "\n",
    "            log_probs.append(log_prob)\n",
    "            values.append(value)\n",
    "            rewards.append(torch.FloatTensor(reward).unsqueeze(1).to(device))\n",
    "            masks.append(torch.FloatTensor(1 - done).unsqueeze(1).to(device))\n",
    "\n",
    "            states.append(state)\n",
    "            actions.append(action)\n",
    "\n",
    "            state = next_state\n",
    "            frame_idx += 1\n",
    "\n",
    "            # Update the main progress bar\n",
    "            pbar.update(1)\n",
    "\n",
    "            if frame_idx % 1000 == 0:\n",
    "                test_reward = np.mean([test_env() for _ in range(10)])\n",
    "                test_rewards.append(test_reward)\n",
    "                plot(frame_idx, test_rewards)\n",
    "                \n",
    "                # Update progress bar description with current reward\n",
    "                pbar.set_postfix({\"Test Reward\": f\"{test_reward:.2f}\", \"Frame\": frame_idx})\n",
    "                \n",
    "                if test_reward > threshold_reward:\n",
    "                    early_stop = True\n",
    "                    break\n",
    "        \n",
    "        next_state = torch.FloatTensor(next_state).to(device)\n",
    "        _, next_value = model(next_state)\n",
    "        returns = compute_gae(next_value, rewards, masks, values)\n",
    "\n",
    "        returns = torch.cat(returns).detach()\n",
    "        log_probs = torch.cat(log_probs).detach()\n",
    "        values = torch.cat(values).detach()\n",
    "        states = torch.cat(states)\n",
    "        actions = torch.cat(actions)\n",
    "        advantages = returns - values\n",
    "\n",
    "        ppo_update(ppo_epochs, mini_batch_size, states, actions, log_probs, returns, advantages)\n",
    "\n",
    "        if early_stop:\n",
    "            break"
   ]
  },
  {
   "cell_type": "code",
   "execution_count": 17,
   "id": "70bcc9a5",
   "metadata": {},
   "outputs": [
    {
     "data": {
      "text/plain": [
       "tensor([[-1.7564],\n",
       "        [-1.4240],\n",
       "        [-1.5184],\n",
       "        [-2.2604],\n",
       "        [-2.8149],\n",
       "        [ 0.4634],\n",
       "        [-0.0053],\n",
       "        [ 0.4903]])"
      ]
     },
     "execution_count": 17,
     "metadata": {},
     "output_type": "execute_result"
    }
   ],
   "source": [
    "dist.sample()"
   ]
  },
  {
   "cell_type": "code",
   "execution_count": 19,
   "id": "c2f15e6b",
   "metadata": {},
   "outputs": [
    {
     "data": {
      "image/png": "[encoded data removed]",
      "text/plain": [
       "<Figure size 640x480 with 1 Axes>"
      ]
     },
     "metadata": {},
     "output_type": "display_data"
    },
    {
     "data": {
      "text/plain": [
       "np.float64(-460.47685138953193)"
      ]
     },
     "execution_count": 19,
     "metadata": {},
     "output_type": "execute_result"
    }
   ],
   "source": [
    "test_env(vis=True)"
   ]
  },
  {
   "cell_type": "code",
   "execution_count": 30,
   "id": "04617e41",
   "metadata": {},
   "outputs": [
    {
     "data": {
      "text/plain": [
       "(array([0.66756886, 0.7445481 , 0.78918886], dtype=float32),\n",
       " -0.6602980308505112,\n",
       " False,\n",
       " False,\n",
       " {})"
      ]
     },
     "execution_count": 30,
     "metadata": {},
     "output_type": "execute_result"
    }
   ],
   "source": [
    "next_state, reward, terminated, truncated, info"
   ]
  },
  {
   "cell_type": "code",
   "execution_count": 36,
   "id": "cc375c67",
   "metadata": {},
   "outputs": [
    {
     "data": {
      "text/plain": [
       "(array([0.605969  , 0.79548824, 1.5991062 ], dtype=float32),\n",
       " -0.7704540431089335,\n",
       " False,\n",
       " False,\n",
       " {})"
      ]
     },
     "execution_count": 36,
     "metadata": {},
     "output_type": "execute_result"
    }
   ],
   "source": [
    "env.step(dist.sample().cpu().numpy()[0])"
   ]
  },
  {
   "cell_type": "code",
   "execution_count": 37,
   "id": "adf84dae",
   "metadata": {},
   "outputs": [
    {
     "data": {
      "image/png": "[encoded data removed]",
      "text/plain": [
       "<Figure size 640x480 with 1 Axes>"
      ]
     },
     "metadata": {},
     "output_type": "display_data"
    }
   ],
   "source": [
    "\n",
    "# Reset and get initial observation\n",
    "obs, info = env.reset()\n",
    "print(\"Observation space:\", obs.shape)\n",
    "print(\"Info:\", info)\n",
    "\n",
    "# Run a random episode and display it in real-time\n",
    "done = False\n",
    "start_time = time.time()\n",
    "\n",
    "# Create figure once\n",
    "plt.figure(figsize=(8, 6))\n",
    "\n",
    "while time.time() - start_time < 10:  # Run for 10 seconds\n",
    "    state = torch.FloatTensor(obs).unsqueeze(0).to(device)\n",
    "    dist, _ = model(state)\n",
    "    action = dist.sample().cpu().numpy()[0]\n",
    "    obs, reward, done, truncated, info = env.step(action)\n",
    "    \n",
    "    # Get frame and display it\n",
    "    frame = env.render()\n",
    "    \n",
    "    # Clear previous plot and show new frame\n",
    "    clear_output(wait=True)\n",
    "    plt.imshow(frame)\n",
    "    plt.axis('off')\n",
    "    plt.title(f'Pendulum Environment - Reward: {reward:.2f}')\n",
    "    plt.show()\n",
    "    \n",
    "    # Reset if episode ends\n",
    "    if done or truncated:\n",
    "        obs, info = env.reset()\n",
    "    \n",
    "    time.sleep(0.05)  # Small delay to see the animation"
   ]
  },
  {
   "cell_type": "code",
   "execution_count": null,
   "id": "d4966f59",
   "metadata": {},
   "outputs": [],
   "source": []
  }
 ],
 "metadata": {
  "kernelspec": {
   "display_name": "dirtyrl",
   "language": "python",
   "name": "python3"
  },
  "language_info": {
   "codemirror_mode": {
    "name": "ipython",
    "version": 3
   },
   "file_extension": ".py",
   "mimetype": "text/x-python",
   "name": "python",
   "nbconvert_exporter": "python",
   "pygments_lexer": "ipython3",
   "version": "3.13.5"
  }
 },
 "nbformat": 4,
 "nbformat_minor": 5
}
